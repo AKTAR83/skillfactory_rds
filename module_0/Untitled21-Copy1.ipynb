{
 "cells": [
  {
   "cell_type": "code",
   "execution_count": 17,
   "metadata": {},
   "outputs": [
    {
     "name": "stdout",
     "output_type": "stream",
     "text": [
      "Ваш алгоритм угадывает число в среднем за 5 попыток\n"
     ]
    },
    {
     "data": {
      "text/plain": [
       "5"
      ]
     },
     "execution_count": 17,
     "metadata": {},
     "output_type": "execute_result"
    }
   ],
   "source": [
    "import numpy as np\n",
    "number = np.random.randint(1,101)\n",
    "\n",
    "def game_core_v2(number):\n",
    "    '''Сначала устанавливаем любое random число, а потом уменьшаем или увеличиваем его в зависимости от того, больше оно или меньше нужного.\n",
    "       Функция принимает загаданное число и возвращает число попыток'''\n",
    "    count = 1\n",
    "    predict = 50   \n",
    "    max_value = 100 # начальное значения диапазона\n",
    "    min_value = 1 #начальное значения диапазона\n",
    "\n",
    "    while number != predict:\n",
    "        count += 1          \n",
    "        if number > predict and max_value - predict != 1:\n",
    "            min_value = predict\n",
    "            predict = int(predict + (max_value - predict)/2) # сужаем диапазон     \n",
    "        elif max_value - predict == 1: # проверяем что predict не \"крайнее значение\"\n",
    "             predict += 1        \n",
    "        elif number < predict:\n",
    "            max_value = predict\n",
    "            predict = int(predict - (max_value - min_value)/2)  # сужаем диапазон           \n",
    "    return(count) # выход из цикла, если угадали\n",
    "\n",
    "def score_game(game_core):  \n",
    "    count_ls = []\n",
    "    np.random.seed(1)  # фиксируем RANDOM SEED, чтобы ваш эксперимент был воспроизводим!\n",
    "    random_array = np.random.randint(1,101, size=(100))\n",
    "    for number in random_array:\n",
    "        count_ls.append(game_core(number))\n",
    "    score = int(np.mean(count_ls))\n",
    "    print(f\"Ваш алгоритм угадывает число в среднем за {score} попыток\")\n",
    "    return(score)\n",
    "\n",
    "# Проверяем\n",
    "score_game(game_core_v2)\n"
   ]
  },
  {
   "cell_type": "code",
   "execution_count": null,
   "metadata": {},
   "outputs": [],
   "source": []
  }
 ],
 "metadata": {
  "kernelspec": {
   "display_name": "Python 3",
   "language": "python",
   "name": "python3"
  },
  "language_info": {
   "codemirror_mode": {
    "name": "ipython",
    "version": 3
   },
   "file_extension": ".py",
   "mimetype": "text/x-python",
   "name": "python",
   "nbconvert_exporter": "python",
   "pygments_lexer": "ipython3",
   "version": "3.7.6"
  }
 },
 "nbformat": 4,
 "nbformat_minor": 4
}
